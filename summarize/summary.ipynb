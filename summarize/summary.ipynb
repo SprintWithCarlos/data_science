{
 "cells": [
  {
   "attachments": {},
   "cell_type": "markdown",
   "metadata": {},
   "source": [
    "# Generate a summary of a YouTube video with AI (GPT3)\n",
    "With this low-code solution you can get a summary of any YouTube video with captions. The solution is configured by default to summarize subtitles in English, offering the option to summarize in any other language by changing the configuration. As of the publication of this solution, OpenAI has not the limitations that ChatGPT does in terms of the number of characters per request.\n",
    "\n",
    "## Prerequisite\n",
    "\n",
    "- Register at [OpenAI](https://beta.openai.com/signup)\n",
    "- In the top right corner menu go to \"View API keys\"\n",
    "- Create the API key and copy it\n",
    "- In the same directory where this *notebook* is located you will find a file called \"env_example.txt\". Rename it to \".env\" (just that, without the .txt) and replace `your_api_key_here` with your key\n",
    "\n",
    "## To generate the summary\n",
    "\n",
    "- In the following cell replace \"your_url\" with the link of the video you want to summarize\n",
    "- Run the cell\n",
    "- The summary will be generated as \"summary.md\" which you can view in this same repository and even download to your computer\n"
   ]
  },
  {
   "cell_type": "code",
   "execution_count": 1,
   "metadata": {},
   "outputs": [],
   "source": [
    "url = \"https://www.youtube.com/watch?v=ag4w9BseRPM&t=79s\"\n",
    "%run summary.py\n",
    "summarize(url)"
   ]
  },
  {
   "attachments": {},
   "cell_type": "markdown",
   "metadata": {},
   "source": [
    "## Optional\n",
    "If you would like to make a summary in a language other than English, you can do so by replacing \"target_language\" with your selection in the following cell.\n",
    "Example:\n",
    "```python\n",
    "language = 'english' # use \"es\" for Spanish, \"fr\" for French...\n",
    "```"
   ]
  },
  {
   "cell_type": "code",
   "execution_count": null,
   "metadata": {},
   "outputs": [],
   "source": [
    "url = \"your_url\"\n",
    "language = 'es'\n",
    "%run summary.py\n",
    "summarize(url, language)"
   ]
  },
  {
   "attachments": {},
   "cell_type": "markdown",
   "metadata": {},
   "source": [
    "## Q&A\n",
    "**Isn't it easier to just pass the API key as an argument to the function?**  \n",
    "\n",
    "Yes, but using it as enviroment variable is more secure for the user and eliminates the chance of making it public by mistake  \n",
    "\n",
    "**Can I customize this low-code solution for my business/personal case**  \n",
    "Absolutely, it's open source code. If you need help just contact me \n",
    "\n",
    "**Can I deploy it elsewhere?**\n",
    "Yes, it's compatible to all current cloud solutions and also can run locally. You can try this notebook also in [Google Colab](https://colab.research.google.com/drive/1wt-5N0Efc4tw6H21CIXfz5F72lvbWJ64?usp=sharing#scrollTo=YHOrC7ESPnDs) and [DataCamp Workspace](https://app.datacamp.com/workspace/w/62cda43e-3864-4526-9224-8adec69ac5d7)\n",
    "\n",
    "[![google_colab](../resumir_youtube/google_colab.png)](https://colab.research.google.com/drive/1wt-5N0Efc4tw6H21CIXfz5F72lvbWJ64?usp=sharing#scrollTo=YHOrC7ESPnDs)\n",
    "\n",
    "[![datacamp](../resumir_youtube/datacamp.png)](https://app.datacamp.com/workspace/w/62cda43e-3864-4526-9224-8adec69ac5d7)"
   ]
  }
 ],
 "metadata": {
  "kernelspec": {
   "display_name": "Python 3",
   "language": "python",
   "name": "python3"
  },
  "language_info": {
   "codemirror_mode": {
    "name": "ipython",
    "version": 3
   },
   "file_extension": ".py",
   "mimetype": "text/x-python",
   "name": "python",
   "nbconvert_exporter": "python",
   "pygments_lexer": "ipython3",
   "version": "3.10.9 (main, Dec 28 2022, 11:23:29) [Clang 12.0.0 (clang-1200.0.32.29)]"
  },
  "orig_nbformat": 4,
  "vscode": {
   "interpreter": {
    "hash": "aee8b7b246df8f9039afb4144a1f6fd8d2ca17a180786b69acc140d282b71a49"
   }
  }
 },
 "nbformat": 4,
 "nbformat_minor": 2
}

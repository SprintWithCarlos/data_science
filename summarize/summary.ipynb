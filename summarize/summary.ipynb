{
 "cells": [
  {
   "attachments": {},
   "cell_type": "markdown",
   "metadata": {},
   "source": [
    "# Generate a summary of a YouTube video with AI (GPT3)\n",
    "With this low-code solution you can get a summary of any YouTube video with captions. The solution is configured by default to summarize subtitles in English, offering the option to summarize in any other language by changing the configuration. As of the publication of this solution, OpenAI has not the limitations that ChatGPT does in terms of the number of characters per request.\n",
    "\n",
    "## Prerequisite\n",
    "\n",
    "- Register at [OpenAI](https://beta.openai.com/signup)\n",
    "- In the top right corner menu go to \"View API keys\"\n",
    "- Create the API key and copy it\n",
    "- In the same directory where this *notebook* is located you will find a file called \"env_example\". Rename it to \".env\" and replace 'your_api_key_here' with your key\n",
    "\n",
    "## To generate the summary\n",
    "\n",
    "- In the following cell replace \"your_url\" with the link of the video you want to summarize\n",
    "- Run the cell\n",
    "- The summary will be generated as \"summary.md\" which you can view in this same repository and even download to your computer\n"
   ]
  },
  {
   "cell_type": "code",
   "execution_count": 29,
   "metadata": {},
   "outputs": [],
   "source": [
    "url = \"your_url\"\n",
    "%run summary.py\n",
    "summarize(url)\n",
    "\n",
    "\n"
   ]
  },
  {
   "attachments": {},
   "cell_type": "markdown",
   "metadata": {},
   "source": [
    "## Opcional\n",
    "Si quisieras hacer un resumen en otro idioma que no sea el español, puedes hacerlo sustituyendo \"idioma_seleccionado\" por tu selección en la siguiente celda.\n",
    "Ejemplo:\n",
    "```python\n",
    "idioma = 'idioma_seleccionado' # utiliza \"en\" para inglés, \"fr\" para francés...\n",
    "``` \n",
    "## Optional\n",
    "If you would like to make a summary in a language other than English, you can do so by replacing \"target_language\" with your selection in the following cell.\n",
    "Example:\n",
    "```python\n",
    "language = 'english' # use \"es\" for Spanish, \"fr\" for French...\n",
    "```"
   ]
  },
  {
   "cell_type": "code",
   "execution_count": null,
   "metadata": {},
   "outputs": [],
   "source": [
    "url = \"your_url\"\n",
    "language = 'es'\n",
    "%run summary.py\n",
    "summarize(url, language)\n"
   ]
  }
 ],
 "metadata": {
  "kernelspec": {
   "display_name": ".data_science",
   "language": "python",
   "name": "python3"
  },
  "language_info": {
   "codemirror_mode": {
    "name": "ipython",
    "version": 3
   },
   "file_extension": ".py",
   "mimetype": "text/x-python",
   "name": "python",
   "nbconvert_exporter": "python",
   "pygments_lexer": "ipython3",
   "version": "3.10.9"
  },
  "orig_nbformat": 4,
  "vscode": {
   "interpreter": {
    "hash": "d458fc347973702d25c1b44187acfa234887d08bc943f11096c2a5baf34a0cd5"
   }
  }
 },
 "nbformat": 4,
 "nbformat_minor": 2
}

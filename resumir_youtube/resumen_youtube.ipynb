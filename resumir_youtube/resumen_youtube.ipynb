{
 "cells": [
  {
   "attachments": {},
   "cell_type": "markdown",
   "metadata": {},
   "source": [
    "# Genera un resumen de un vídeo de YouTube con IA (GPT3)\n",
    "Con esta solución low-code podrás obtener un resumen de cualquier video de YouTube que tenga subtítulos. La solución está configurada por defecto para resumir subtítulos en español, ofreciendo la opción de resumir en cualquier otro idioma cambiando la configuración. A fecha de la publicación de esta solución, OpenAI no tiene limitaciones que sí tiene ChatGPT en cuanto al número de caracteres.\n",
    "## Paso previo\n",
    "- Regístrate en [OpenAI](https://beta.openai.com/signup)\n",
    "- En el menú de la esquina superior derecha ve a \"View API keys\"\n",
    "- Crea la clave API y cópiala\n",
    "- En el mismo directorio donde está este *notebook* encontrarás un archivo llamado \"env_example\". Renómbralo a \".env\" y sustituye 'tu_clave_api_aquí' con tu clave\n",
    "## Para generar el resumen\n",
    "- En la siguiente celda sustituye \"tu_url\" con el link del vídeo que quieras resumir\n",
    "- Ejecuta la celda\n",
    "- El resumen se generará como \"resumen.md\" el cual podrás visualizar en este mismo repositorio e incluso descargar a tu ordenador"
   ]
  },
  {
   "cell_type": "code",
   "execution_count": null,
   "metadata": {},
   "outputs": [],
   "source": [
    "url = \"tu_url\"\n",
    "%run resumen_youtube.py\n",
    "resumir(url)\n",
    "\n",
    "\n"
   ]
  },
  {
   "attachments": {},
   "cell_type": "markdown",
   "metadata": {},
   "source": [
    "## Opcional\n",
    "Si quisieras hacer un resumen en otro idioma que no sea el español, puedes hacerlo sustituyendo \"idioma_seleccionado\" por tu selección en la siguiente celda.\n",
    "Ejemplo:\n",
    "```python\n",
    "idioma = 'idioma_seleccionado' # utiliza \"en\" para inglés, \"fr\" para francés...\n",
    "``` "
   ]
  },
  {
   "cell_type": "code",
   "execution_count": null,
   "metadata": {},
   "outputs": [],
   "source": [
    "url = \"tu_url\"\n",
    "idioma = \"idioma_seleccionado\"\n",
    "%run resumen_youtube.py\n",
    "resumir(url, idioma)\n"
   ]
  },
  {
   "attachments": {},
   "cell_type": "markdown",
   "metadata": {},
   "source": [
    "## Preguntas y respuestas\n",
    "\n",
    "**¿No es más fácil pasar la clave de la API como un argumento a la función?**\n",
    "\n",
    "Sí, pero usarlo como variable de entorno es más seguro para el usuario y elimina la posibilidad de hacerla pública por error.\n",
    "\n",
    "**¿Puedo personalizar esta solución low-code para mi caso personal/de negocio?**\n",
    "Absolutamente, es código abierto. Si necesitas ayuda, contáctame.\n",
    "\n",
    "**¿Puedo desplegarlo en otro lugar?**\n",
    "Sí, es compatible con todas las soluciones en la nube actuales y también se puede ejecutar localmente. Adicionalmente puedes probar este cuaderno en [Google Colab](https://colab.research.google.com/drive/1wt-5N0Efc4tw6H21CIXfz5F72lvbWJ64?usp=sharing#scrollTo=YHOrC7ESPnDs) y en [DataCamp Workspace](https://app.datacamp.com/workspace/w/62cda43e-3864-4526-9224-8adec69ac5d7)\n",
    "\n",
    "[![google_colab](google_colab.png)](https://colab.research.google.com/drive/1wt-5N0Efc4tw6H21CIXfz5F72lvbWJ64?usp=sharing#scrollTo=YHOrC7ESPnDs)\n",
    "\n",
    "[![datacamp](datacamp.png)](https://app.datacamp.com/workspace/w/62cda43e-3864-4526-9224-8adec69ac5d7)\n"
   ]
  }
 ],
 "metadata": {
  "kernelspec": {
   "display_name": "Python 3",
   "language": "python",
   "name": "python3"
  },
  "language_info": {
   "codemirror_mode": {
    "name": "ipython",
    "version": 3
   },
   "file_extension": ".py",
   "mimetype": "text/x-python",
   "name": "python",
   "nbconvert_exporter": "python",
   "pygments_lexer": "ipython3",
   "version": "3.10.9 (main, Dec 28 2022, 11:23:29) [Clang 12.0.0 (clang-1200.0.32.29)]"
  },
  "orig_nbformat": 4,
  "vscode": {
   "interpreter": {
    "hash": "aee8b7b246df8f9039afb4144a1f6fd8d2ca17a180786b69acc140d282b71a49"
   }
  }
 },
 "nbformat": 4,
 "nbformat_minor": 2
}
